{
  "cells": [
    {
      "cell_type": "markdown",
      "metadata": {
        "id": "3Qkm6XOnz3C3"
      },
      "source": [
        "# Proyek Klasifikasi Konsumsi Ganja Berbasis Machine Learning\n",
        "\n",
        "**Tujuan Proyek:**\n",
        "Proyek ini bertujuan untuk membangun sebuah model klasifikasi machine learning yang mampu memprediksi apakah seseorang merupakan pengguna ganja (cannabis) atau bukan. Prediksi didasarkan pada serangkaian data demografis dan atribut kepribadian responden.\n",
        "\n",
        "**Dataset:**\n",
        "Dataset yang digunakan adalah 'Drug Consumption (Quantified)' dari UCI Machine Learning Repository. Dataset ini berisi informasi tentang konsumsi 18 jenis narkoba, data demografis (usia, jenis kelamin, pendidikan, negara), serta skor dari lima tes kepribadian (NEO-FFI-R, BIS-11, ImpSS, Level of Education, dan Ethnicity).\n",
        "\n",
        "**Metodologi:**\n",
        "1.  **Eksplorasi Data (EDA):** Menganalisis dan memvisualisasikan data untuk memahami distribusi dan karakteristiknya.\n",
        "2.  **Preprocessing Data:** Membersihkan dan mempersiapkan data, termasuk binerisasi variabel target dan encoding.\n",
        "3.  **Pembuatan Pipeline:** Membangun pipeline yang mengintegrasikan preprocessing (StandardScaler untuk fitur numerik dan OrdinalEncoder untuk fitur kategorikal) dengan model klasifikasi.\n",
        "4.  **Tuning Hyperparameter:** Menggunakan `GridSearchCV` untuk menemukan kombinasi hyperparameter terbaik untuk model LightGBM.\n",
        "5.  **Evaluasi Model:** Mengevaluasi performa model terbaik pada data uji menggunakan metrik seperti F1-score dan classification report.\n",
        "6.  **Analisis Fitur:** Mengidentifikasi fitur-fitur yang paling berpengaruh dalam memprediksi konsumsi ganja.\n",
        "\n",
        "Proyek ini diakhiri dengan penyimpanan model yang telah dilatih untuk potensi penggunaan di masa depan."
      ]
    },
    {
      "cell_type": "markdown",
      "metadata": {
        "id": "CoDjjkGiz3C6"
      },
      "source": [
        "## 1. Setup & Pemuatan Data\n",
        "\n",
        "Langkah pertama adalah mengimpor semua library yang diperlukan dan memuat dataset dari repository UCI. Fitur dan target akan digabungkan menjadi satu DataFrame `df` untuk memudahkan analisis."
      ]
    },
    {
      "cell_type": "code",
      "source": [
        "!pip install ucimlrepo"
      ],
      "metadata": {
        "id": "yiXp18hMz4F8"
      },
      "execution_count": null,
      "outputs": []
    },
    {
      "cell_type": "code",
      "execution_count": 2,
      "metadata": {
        "id": "pq6mOd30z3C7"
      },
      "outputs": [],
      "source": [
        "import pandas as pd\n",
        "import numpy as np\n",
        "import matplotlib.pyplot as plt\n",
        "import seaborn as sns\n",
        "from ucimlrepo import fetch_ucirepo\n",
        "from sklearn.model_selection import train_test_split, GridSearchCV\n",
        "from sklearn.preprocessing import StandardScaler, LabelEncoder, OrdinalEncoder\n",
        "from sklearn.pipeline import Pipeline\n",
        "from sklearn.compose import ColumnTransformer\n",
        "from lightgbm import LGBMClassifier\n",
        "from sklearn.metrics import classification_report, accuracy_score\n",
        "import joblib\n",
        "\n"
      ]
    },
    {
      "cell_type": "code",
      "source": [
        "# Mengatur gaya visualisasi\n",
        "sns.set_style('whitegrid')\n",
        "plt.rcParams['figure.figsize'] = (12, 8)\n",
        "\n",
        "# Memuat dataset 'Drug Consumption (Quantified)'\n",
        "print(\"Memuat dataset...\")\n",
        "drug_consumption = fetch_ucirepo(id=373)\n",
        "\n",
        "# Menggabungkan fitur dan target ke dalam satu DataFrame\n",
        "df = pd.concat([drug_consumption.data.features, drug_consumption.data.targets], axis=1)\n",
        "\n",
        "print(\"Dataset berhasil dimuat.\")"
      ],
      "metadata": {
        "colab": {
          "base_uri": "https://localhost:8080/",
          "height": 0
        },
        "id": "QwcRjxKUz7gg",
        "outputId": "ef4295ef-135d-493e-a97c-0fb2cc7d0fa4"
      },
      "execution_count": 3,
      "outputs": [
        {
          "output_type": "stream",
          "name": "stdout",
          "text": [
            "Memuat dataset...\n",
            "Dataset berhasil dimuat.\n"
          ]
        }
      ]
    },
    {
      "cell_type": "markdown",
      "metadata": {
        "id": "wzAE67faz3C8"
      },
      "source": [
        "## 2. Eksplorasi Data (EDA)\n",
        "\n",
        "Pada tahap ini, kita akan melakukan inspeksi awal terhadap DataFrame `df` untuk memahami struktur, statistik deskriptif, dan distribusi variabel target."
      ]
    },
    {
      "cell_type": "code",
      "execution_count": 5,
      "metadata": {
        "colab": {
          "base_uri": "https://localhost:8080/",
          "height": 0
        },
        "id": "qtJljjZGz3C9",
        "outputId": "bc931756-b0a8-4819-c981-9c3431972ae8"
      },
      "outputs": [
        {
          "output_type": "stream",
          "name": "stdout",
          "text": [
            "--- Inspeksi Awal Data ---\n",
            "Bentuk DataFrame (df): (1885, 31)\n"
          ]
        }
      ],
      "source": [
        "print(\"--- Inspeksi Awal Data ---\")\n",
        "print(f\"Bentuk DataFrame (df): {df.shape}\")"
      ]
    },
    {
      "cell_type": "code",
      "source": [
        "print(\"\\nInformasi DataFrame:\")\n",
        "df.info()"
      ],
      "metadata": {
        "colab": {
          "base_uri": "https://localhost:8080/",
          "height": 0
        },
        "id": "bkrsH9w81FFN",
        "outputId": "d2fc0dd3-9dc9-4429-8432-7b6d54b9cb72"
      },
      "execution_count": 6,
      "outputs": [
        {
          "output_type": "stream",
          "name": "stdout",
          "text": [
            "\n",
            "Informasi DataFrame:\n",
            "<class 'pandas.core.frame.DataFrame'>\n",
            "RangeIndex: 1885 entries, 0 to 1884\n",
            "Data columns (total 31 columns):\n",
            " #   Column     Non-Null Count  Dtype  \n",
            "---  ------     --------------  -----  \n",
            " 0   age        1885 non-null   float64\n",
            " 1   gender     1885 non-null   float64\n",
            " 2   education  1885 non-null   float64\n",
            " 3   country    1885 non-null   float64\n",
            " 4   ethnicity  1885 non-null   float64\n",
            " 5   nscore     1885 non-null   float64\n",
            " 6   escore     1885 non-null   float64\n",
            " 7   oscore     1885 non-null   float64\n",
            " 8   ascore     1885 non-null   float64\n",
            " 9   cscore     1885 non-null   float64\n",
            " 10  impuslive  1885 non-null   float64\n",
            " 11  ss         1885 non-null   float64\n",
            " 12  alcohol    1885 non-null   object \n",
            " 13  amphet     1885 non-null   object \n",
            " 14  amyl       1885 non-null   object \n",
            " 15  benzos     1885 non-null   object \n",
            " 16  caff       1885 non-null   object \n",
            " 17  cannabis   1885 non-null   object \n",
            " 18  choc       1885 non-null   object \n",
            " 19  coke       1885 non-null   object \n",
            " 20  crack      1885 non-null   object \n",
            " 21  ecstasy    1885 non-null   object \n",
            " 22  heroin     1885 non-null   object \n",
            " 23  ketamine   1885 non-null   object \n",
            " 24  legalh     1885 non-null   object \n",
            " 25  lsd        1885 non-null   object \n",
            " 26  meth       1885 non-null   object \n",
            " 27  mushrooms  1885 non-null   object \n",
            " 28  nicotine   1885 non-null   object \n",
            " 29  semer      1885 non-null   object \n",
            " 30  vsa        1885 non-null   object \n",
            "dtypes: float64(12), object(19)\n",
            "memory usage: 456.7+ KB\n"
          ]
        }
      ]
    },
    {
      "cell_type": "code",
      "source": [
        "print(\"\\nStatistik Deskriptif DataFrame:\")\n",
        "display(df.describe(include='all'))"
      ],
      "metadata": {
        "colab": {
          "base_uri": "https://localhost:8080/",
          "height": 478
        },
        "id": "otkDCQiI1Ht_",
        "outputId": "f250c9f7-0b6a-401a-c607-33c30c7cd1fe"
      },
      "execution_count": 7,
      "outputs": [
        {
          "output_type": "stream",
          "name": "stdout",
          "text": [
            "\n",
            "Statistik Deskriptif DataFrame:\n"
          ]
        },
        {
          "output_type": "display_data",
          "data": {
            "text/plain": [
              "               age       gender    education      country    ethnicity  \\\n",
              "count   1885.00000  1885.000000  1885.000000  1885.000000  1885.000000   \n",
              "unique         NaN          NaN          NaN          NaN          NaN   \n",
              "top            NaN          NaN          NaN          NaN          NaN   \n",
              "freq           NaN          NaN          NaN          NaN          NaN   \n",
              "mean       0.03461    -0.000256    -0.003806     0.355542    -0.309577   \n",
              "std        0.87836     0.482588     0.950078     0.700335     0.166226   \n",
              "min       -0.95197    -0.482460    -2.435910    -0.570090    -1.107020   \n",
              "25%       -0.95197    -0.482460    -0.611130    -0.570090    -0.316850   \n",
              "50%       -0.07854    -0.482460    -0.059210     0.960820    -0.316850   \n",
              "75%        0.49788     0.482460     0.454680     0.960820    -0.316850   \n",
              "max        2.59171     0.482460     1.984370     0.960820     1.907250   \n",
              "\n",
              "             nscore       escore       oscore       ascore       cscore  ...  \\\n",
              "count   1885.000000  1885.000000  1885.000000  1885.000000  1885.000000  ...   \n",
              "unique          NaN          NaN          NaN          NaN          NaN  ...   \n",
              "top             NaN          NaN          NaN          NaN          NaN  ...   \n",
              "freq            NaN          NaN          NaN          NaN          NaN  ...   \n",
              "mean       0.000047    -0.000163    -0.000534    -0.000245    -0.000386  ...   \n",
              "std        0.998106     0.997448     0.996229     0.997440     0.997523  ...   \n",
              "min       -3.464360    -3.273930    -3.273930    -3.464360    -3.464360  ...   \n",
              "25%       -0.678250    -0.695090    -0.717270    -0.606330    -0.652530  ...   \n",
              "50%        0.042570     0.003320    -0.019280    -0.017290    -0.006650  ...   \n",
              "75%        0.629670     0.637790     0.723300     0.760960     0.584890  ...   \n",
              "max        3.273930     3.273930     2.901610     3.464360     3.464360  ...   \n",
              "\n",
              "        ecstasy  heroin ketamine legalh   lsd  meth mushrooms nicotine semer  \\\n",
              "count      1885    1885     1885   1885  1885  1885      1885     1885  1885   \n",
              "unique        7       7        7      7     7     7         7        7     5   \n",
              "top         CL0     CL0      CL0    CL0   CL0   CL0       CL0      CL6   CL0   \n",
              "freq       1021    1605     1490   1094  1069  1429       982      610  1877   \n",
              "mean        NaN     NaN      NaN    NaN   NaN   NaN       NaN      NaN   NaN   \n",
              "std         NaN     NaN      NaN    NaN   NaN   NaN       NaN      NaN   NaN   \n",
              "min         NaN     NaN      NaN    NaN   NaN   NaN       NaN      NaN   NaN   \n",
              "25%         NaN     NaN      NaN    NaN   NaN   NaN       NaN      NaN   NaN   \n",
              "50%         NaN     NaN      NaN    NaN   NaN   NaN       NaN      NaN   NaN   \n",
              "75%         NaN     NaN      NaN    NaN   NaN   NaN       NaN      NaN   NaN   \n",
              "max         NaN     NaN      NaN    NaN   NaN   NaN       NaN      NaN   NaN   \n",
              "\n",
              "         vsa  \n",
              "count   1885  \n",
              "unique     7  \n",
              "top      CL0  \n",
              "freq    1455  \n",
              "mean     NaN  \n",
              "std      NaN  \n",
              "min      NaN  \n",
              "25%      NaN  \n",
              "50%      NaN  \n",
              "75%      NaN  \n",
              "max      NaN  \n",
              "\n",
              "[11 rows x 31 columns]"
            ],
            "text/html": [
              "\n",
              "  <div id=\"df-3c05b80d-e7f8-4243-a18b-046f35eb6f31\" class=\"colab-df-container\">\n",
              "    <div>\n",
              "<style scoped>\n",
              "    .dataframe tbody tr th:only-of-type {\n",
              "        vertical-align: middle;\n",
              "    }\n",
              "\n",
              "    .dataframe tbody tr th {\n",
              "        vertical-align: top;\n",
              "    }\n",
              "\n",
              "    .dataframe thead th {\n",
              "        text-align: right;\n",
              "    }\n",
              "</style>\n",
              "<table border=\"1\" class=\"dataframe\">\n",
              "  <thead>\n",
              "    <tr style=\"text-align: right;\">\n",
              "      <th></th>\n",
              "      <th>age</th>\n",
              "      <th>gender</th>\n",
              "      <th>education</th>\n",
              "      <th>country</th>\n",
              "      <th>ethnicity</th>\n",
              "      <th>nscore</th>\n",
              "      <th>escore</th>\n",
              "      <th>oscore</th>\n",
              "      <th>ascore</th>\n",
              "      <th>cscore</th>\n",
              "      <th>...</th>\n",
              "      <th>ecstasy</th>\n",
              "      <th>heroin</th>\n",
              "      <th>ketamine</th>\n",
              "      <th>legalh</th>\n",
              "      <th>lsd</th>\n",
              "      <th>meth</th>\n",
              "      <th>mushrooms</th>\n",
              "      <th>nicotine</th>\n",
              "      <th>semer</th>\n",
              "      <th>vsa</th>\n",
              "    </tr>\n",
              "  </thead>\n",
              "  <tbody>\n",
              "    <tr>\n",
              "      <th>count</th>\n",
              "      <td>1885.00000</td>\n",
              "      <td>1885.000000</td>\n",
              "      <td>1885.000000</td>\n",
              "      <td>1885.000000</td>\n",
              "      <td>1885.000000</td>\n",
              "      <td>1885.000000</td>\n",
              "      <td>1885.000000</td>\n",
              "      <td>1885.000000</td>\n",
              "      <td>1885.000000</td>\n",
              "      <td>1885.000000</td>\n",
              "      <td>...</td>\n",
              "      <td>1885</td>\n",
              "      <td>1885</td>\n",
              "      <td>1885</td>\n",
              "      <td>1885</td>\n",
              "      <td>1885</td>\n",
              "      <td>1885</td>\n",
              "      <td>1885</td>\n",
              "      <td>1885</td>\n",
              "      <td>1885</td>\n",
              "      <td>1885</td>\n",
              "    </tr>\n",
              "    <tr>\n",
              "      <th>unique</th>\n",
              "      <td>NaN</td>\n",
              "      <td>NaN</td>\n",
              "      <td>NaN</td>\n",
              "      <td>NaN</td>\n",
              "      <td>NaN</td>\n",
              "      <td>NaN</td>\n",
              "      <td>NaN</td>\n",
              "      <td>NaN</td>\n",
              "      <td>NaN</td>\n",
              "      <td>NaN</td>\n",
              "      <td>...</td>\n",
              "      <td>7</td>\n",
              "      <td>7</td>\n",
              "      <td>7</td>\n",
              "      <td>7</td>\n",
              "      <td>7</td>\n",
              "      <td>7</td>\n",
              "      <td>7</td>\n",
              "      <td>7</td>\n",
              "      <td>5</td>\n",
              "      <td>7</td>\n",
              "    </tr>\n",
              "    <tr>\n",
              "      <th>top</th>\n",
              "      <td>NaN</td>\n",
              "      <td>NaN</td>\n",
              "      <td>NaN</td>\n",
              "      <td>NaN</td>\n",
              "      <td>NaN</td>\n",
              "      <td>NaN</td>\n",
              "      <td>NaN</td>\n",
              "      <td>NaN</td>\n",
              "      <td>NaN</td>\n",
              "      <td>NaN</td>\n",
              "      <td>...</td>\n",
              "      <td>CL0</td>\n",
              "      <td>CL0</td>\n",
              "      <td>CL0</td>\n",
              "      <td>CL0</td>\n",
              "      <td>CL0</td>\n",
              "      <td>CL0</td>\n",
              "      <td>CL0</td>\n",
              "      <td>CL6</td>\n",
              "      <td>CL0</td>\n",
              "      <td>CL0</td>\n",
              "    </tr>\n",
              "    <tr>\n",
              "      <th>freq</th>\n",
              "      <td>NaN</td>\n",
              "      <td>NaN</td>\n",
              "      <td>NaN</td>\n",
              "      <td>NaN</td>\n",
              "      <td>NaN</td>\n",
              "      <td>NaN</td>\n",
              "      <td>NaN</td>\n",
              "      <td>NaN</td>\n",
              "      <td>NaN</td>\n",
              "      <td>NaN</td>\n",
              "      <td>...</td>\n",
              "      <td>1021</td>\n",
              "      <td>1605</td>\n",
              "      <td>1490</td>\n",
              "      <td>1094</td>\n",
              "      <td>1069</td>\n",
              "      <td>1429</td>\n",
              "      <td>982</td>\n",
              "      <td>610</td>\n",
              "      <td>1877</td>\n",
              "      <td>1455</td>\n",
              "    </tr>\n",
              "    <tr>\n",
              "      <th>mean</th>\n",
              "      <td>0.03461</td>\n",
              "      <td>-0.000256</td>\n",
              "      <td>-0.003806</td>\n",
              "      <td>0.355542</td>\n",
              "      <td>-0.309577</td>\n",
              "      <td>0.000047</td>\n",
              "      <td>-0.000163</td>\n",
              "      <td>-0.000534</td>\n",
              "      <td>-0.000245</td>\n",
              "      <td>-0.000386</td>\n",
              "      <td>...</td>\n",
              "      <td>NaN</td>\n",
              "      <td>NaN</td>\n",
              "      <td>NaN</td>\n",
              "      <td>NaN</td>\n",
              "      <td>NaN</td>\n",
              "      <td>NaN</td>\n",
              "      <td>NaN</td>\n",
              "      <td>NaN</td>\n",
              "      <td>NaN</td>\n",
              "      <td>NaN</td>\n",
              "    </tr>\n",
              "    <tr>\n",
              "      <th>std</th>\n",
              "      <td>0.87836</td>\n",
              "      <td>0.482588</td>\n",
              "      <td>0.950078</td>\n",
              "      <td>0.700335</td>\n",
              "      <td>0.166226</td>\n",
              "      <td>0.998106</td>\n",
              "      <td>0.997448</td>\n",
              "      <td>0.996229</td>\n",
              "      <td>0.997440</td>\n",
              "      <td>0.997523</td>\n",
              "      <td>...</td>\n",
              "      <td>NaN</td>\n",
              "      <td>NaN</td>\n",
              "      <td>NaN</td>\n",
              "      <td>NaN</td>\n",
              "      <td>NaN</td>\n",
              "      <td>NaN</td>\n",
              "      <td>NaN</td>\n",
              "      <td>NaN</td>\n",
              "      <td>NaN</td>\n",
              "      <td>NaN</td>\n",
              "    </tr>\n",
              "    <tr>\n",
              "      <th>min</th>\n",
              "      <td>-0.95197</td>\n",
              "      <td>-0.482460</td>\n",
              "      <td>-2.435910</td>\n",
              "      <td>-0.570090</td>\n",
              "      <td>-1.107020</td>\n",
              "      <td>-3.464360</td>\n",
              "      <td>-3.273930</td>\n",
              "      <td>-3.273930</td>\n",
              "      <td>-3.464360</td>\n",
              "      <td>-3.464360</td>\n",
              "      <td>...</td>\n",
              "      <td>NaN</td>\n",
              "      <td>NaN</td>\n",
              "      <td>NaN</td>\n",
              "      <td>NaN</td>\n",
              "      <td>NaN</td>\n",
              "      <td>NaN</td>\n",
              "      <td>NaN</td>\n",
              "      <td>NaN</td>\n",
              "      <td>NaN</td>\n",
              "      <td>NaN</td>\n",
              "    </tr>\n",
              "    <tr>\n",
              "      <th>25%</th>\n",
              "      <td>-0.95197</td>\n",
              "      <td>-0.482460</td>\n",
              "      <td>-0.611130</td>\n",
              "      <td>-0.570090</td>\n",
              "      <td>-0.316850</td>\n",
              "      <td>-0.678250</td>\n",
              "      <td>-0.695090</td>\n",
              "      <td>-0.717270</td>\n",
              "      <td>-0.606330</td>\n",
              "      <td>-0.652530</td>\n",
              "      <td>...</td>\n",
              "      <td>NaN</td>\n",
              "      <td>NaN</td>\n",
              "      <td>NaN</td>\n",
              "      <td>NaN</td>\n",
              "      <td>NaN</td>\n",
              "      <td>NaN</td>\n",
              "      <td>NaN</td>\n",
              "      <td>NaN</td>\n",
              "      <td>NaN</td>\n",
              "      <td>NaN</td>\n",
              "    </tr>\n",
              "    <tr>\n",
              "      <th>50%</th>\n",
              "      <td>-0.07854</td>\n",
              "      <td>-0.482460</td>\n",
              "      <td>-0.059210</td>\n",
              "      <td>0.960820</td>\n",
              "      <td>-0.316850</td>\n",
              "      <td>0.042570</td>\n",
              "      <td>0.003320</td>\n",
              "      <td>-0.019280</td>\n",
              "      <td>-0.017290</td>\n",
              "      <td>-0.006650</td>\n",
              "      <td>...</td>\n",
              "      <td>NaN</td>\n",
              "      <td>NaN</td>\n",
              "      <td>NaN</td>\n",
              "      <td>NaN</td>\n",
              "      <td>NaN</td>\n",
              "      <td>NaN</td>\n",
              "      <td>NaN</td>\n",
              "      <td>NaN</td>\n",
              "      <td>NaN</td>\n",
              "      <td>NaN</td>\n",
              "    </tr>\n",
              "    <tr>\n",
              "      <th>75%</th>\n",
              "      <td>0.49788</td>\n",
              "      <td>0.482460</td>\n",
              "      <td>0.454680</td>\n",
              "      <td>0.960820</td>\n",
              "      <td>-0.316850</td>\n",
              "      <td>0.629670</td>\n",
              "      <td>0.637790</td>\n",
              "      <td>0.723300</td>\n",
              "      <td>0.760960</td>\n",
              "      <td>0.584890</td>\n",
              "      <td>...</td>\n",
              "      <td>NaN</td>\n",
              "      <td>NaN</td>\n",
              "      <td>NaN</td>\n",
              "      <td>NaN</td>\n",
              "      <td>NaN</td>\n",
              "      <td>NaN</td>\n",
              "      <td>NaN</td>\n",
              "      <td>NaN</td>\n",
              "      <td>NaN</td>\n",
              "      <td>NaN</td>\n",
              "    </tr>\n",
              "    <tr>\n",
              "      <th>max</th>\n",
              "      <td>2.59171</td>\n",
              "      <td>0.482460</td>\n",
              "      <td>1.984370</td>\n",
              "      <td>0.960820</td>\n",
              "      <td>1.907250</td>\n",
              "      <td>3.273930</td>\n",
              "      <td>3.273930</td>\n",
              "      <td>2.901610</td>\n",
              "      <td>3.464360</td>\n",
              "      <td>3.464360</td>\n",
              "      <td>...</td>\n",
              "      <td>NaN</td>\n",
              "      <td>NaN</td>\n",
              "      <td>NaN</td>\n",
              "      <td>NaN</td>\n",
              "      <td>NaN</td>\n",
              "      <td>NaN</td>\n",
              "      <td>NaN</td>\n",
              "      <td>NaN</td>\n",
              "      <td>NaN</td>\n",
              "      <td>NaN</td>\n",
              "    </tr>\n",
              "  </tbody>\n",
              "</table>\n",
              "<p>11 rows × 31 columns</p>\n",
              "</div>\n",
              "    <div class=\"colab-df-buttons\">\n",
              "\n",
              "  <div class=\"colab-df-container\">\n",
              "    <button class=\"colab-df-convert\" onclick=\"convertToInteractive('df-3c05b80d-e7f8-4243-a18b-046f35eb6f31')\"\n",
              "            title=\"Convert this dataframe to an interactive table.\"\n",
              "            style=\"display:none;\">\n",
              "\n",
              "  <svg xmlns=\"http://www.w3.org/2000/svg\" height=\"24px\" viewBox=\"0 -960 960 960\">\n",
              "    <path d=\"M120-120v-720h720v720H120Zm60-500h600v-160H180v160Zm220 220h160v-160H400v160Zm0 220h160v-160H400v160ZM180-400h160v-160H180v160Zm440 0h160v-160H620v160ZM180-180h160v-160H180v160Zm440 0h160v-160H620v160Z\"/>\n",
              "  </svg>\n",
              "    </button>\n",
              "\n",
              "  <style>\n",
              "    .colab-df-container {\n",
              "      display:flex;\n",
              "      gap: 12px;\n",
              "    }\n",
              "\n",
              "    .colab-df-convert {\n",
              "      background-color: #E8F0FE;\n",
              "      border: none;\n",
              "      border-radius: 50%;\n",
              "      cursor: pointer;\n",
              "      display: none;\n",
              "      fill: #1967D2;\n",
              "      height: 32px;\n",
              "      padding: 0 0 0 0;\n",
              "      width: 32px;\n",
              "    }\n",
              "\n",
              "    .colab-df-convert:hover {\n",
              "      background-color: #E2EBFA;\n",
              "      box-shadow: 0px 1px 2px rgba(60, 64, 67, 0.3), 0px 1px 3px 1px rgba(60, 64, 67, 0.15);\n",
              "      fill: #174EA6;\n",
              "    }\n",
              "\n",
              "    .colab-df-buttons div {\n",
              "      margin-bottom: 4px;\n",
              "    }\n",
              "\n",
              "    [theme=dark] .colab-df-convert {\n",
              "      background-color: #3B4455;\n",
              "      fill: #D2E3FC;\n",
              "    }\n",
              "\n",
              "    [theme=dark] .colab-df-convert:hover {\n",
              "      background-color: #434B5C;\n",
              "      box-shadow: 0px 1px 3px 1px rgba(0, 0, 0, 0.15);\n",
              "      filter: drop-shadow(0px 1px 2px rgba(0, 0, 0, 0.3));\n",
              "      fill: #FFFFFF;\n",
              "    }\n",
              "  </style>\n",
              "\n",
              "    <script>\n",
              "      const buttonEl =\n",
              "        document.querySelector('#df-3c05b80d-e7f8-4243-a18b-046f35eb6f31 button.colab-df-convert');\n",
              "      buttonEl.style.display =\n",
              "        google.colab.kernel.accessAllowed ? 'block' : 'none';\n",
              "\n",
              "      async function convertToInteractive(key) {\n",
              "        const element = document.querySelector('#df-3c05b80d-e7f8-4243-a18b-046f35eb6f31');\n",
              "        const dataTable =\n",
              "          await google.colab.kernel.invokeFunction('convertToInteractive',\n",
              "                                                    [key], {});\n",
              "        if (!dataTable) return;\n",
              "\n",
              "        const docLinkHtml = 'Like what you see? Visit the ' +\n",
              "          '<a target=\"_blank\" href=https://colab.research.google.com/notebooks/data_table.ipynb>data table notebook</a>'\n",
              "          + ' to learn more about interactive tables.';\n",
              "        element.innerHTML = '';\n",
              "        dataTable['output_type'] = 'display_data';\n",
              "        await google.colab.output.renderOutput(dataTable, element);\n",
              "        const docLink = document.createElement('div');\n",
              "        docLink.innerHTML = docLinkHtml;\n",
              "        element.appendChild(docLink);\n",
              "      }\n",
              "    </script>\n",
              "  </div>\n",
              "\n",
              "\n",
              "    <div id=\"df-0f371404-893a-44f5-84b8-dfbf416fc769\">\n",
              "      <button class=\"colab-df-quickchart\" onclick=\"quickchart('df-0f371404-893a-44f5-84b8-dfbf416fc769')\"\n",
              "                title=\"Suggest charts\"\n",
              "                style=\"display:none;\">\n",
              "\n",
              "<svg xmlns=\"http://www.w3.org/2000/svg\" height=\"24px\"viewBox=\"0 0 24 24\"\n",
              "     width=\"24px\">\n",
              "    <g>\n",
              "        <path d=\"M19 3H5c-1.1 0-2 .9-2 2v14c0 1.1.9 2 2 2h14c1.1 0 2-.9 2-2V5c0-1.1-.9-2-2-2zM9 17H7v-7h2v7zm4 0h-2V7h2v10zm4 0h-2v-4h2v4z\"/>\n",
              "    </g>\n",
              "</svg>\n",
              "      </button>\n",
              "\n",
              "<style>\n",
              "  .colab-df-quickchart {\n",
              "      --bg-color: #E8F0FE;\n",
              "      --fill-color: #1967D2;\n",
              "      --hover-bg-color: #E2EBFA;\n",
              "      --hover-fill-color: #174EA6;\n",
              "      --disabled-fill-color: #AAA;\n",
              "      --disabled-bg-color: #DDD;\n",
              "  }\n",
              "\n",
              "  [theme=dark] .colab-df-quickchart {\n",
              "      --bg-color: #3B4455;\n",
              "      --fill-color: #D2E3FC;\n",
              "      --hover-bg-color: #434B5C;\n",
              "      --hover-fill-color: #FFFFFF;\n",
              "      --disabled-bg-color: #3B4455;\n",
              "      --disabled-fill-color: #666;\n",
              "  }\n",
              "\n",
              "  .colab-df-quickchart {\n",
              "    background-color: var(--bg-color);\n",
              "    border: none;\n",
              "    border-radius: 50%;\n",
              "    cursor: pointer;\n",
              "    display: none;\n",
              "    fill: var(--fill-color);\n",
              "    height: 32px;\n",
              "    padding: 0;\n",
              "    width: 32px;\n",
              "  }\n",
              "\n",
              "  .colab-df-quickchart:hover {\n",
              "    background-color: var(--hover-bg-color);\n",
              "    box-shadow: 0 1px 2px rgba(60, 64, 67, 0.3), 0 1px 3px 1px rgba(60, 64, 67, 0.15);\n",
              "    fill: var(--button-hover-fill-color);\n",
              "  }\n",
              "\n",
              "  .colab-df-quickchart-complete:disabled,\n",
              "  .colab-df-quickchart-complete:disabled:hover {\n",
              "    background-color: var(--disabled-bg-color);\n",
              "    fill: var(--disabled-fill-color);\n",
              "    box-shadow: none;\n",
              "  }\n",
              "\n",
              "  .colab-df-spinner {\n",
              "    border: 2px solid var(--fill-color);\n",
              "    border-color: transparent;\n",
              "    border-bottom-color: var(--fill-color);\n",
              "    animation:\n",
              "      spin 1s steps(1) infinite;\n",
              "  }\n",
              "\n",
              "  @keyframes spin {\n",
              "    0% {\n",
              "      border-color: transparent;\n",
              "      border-bottom-color: var(--fill-color);\n",
              "      border-left-color: var(--fill-color);\n",
              "    }\n",
              "    20% {\n",
              "      border-color: transparent;\n",
              "      border-left-color: var(--fill-color);\n",
              "      border-top-color: var(--fill-color);\n",
              "    }\n",
              "    30% {\n",
              "      border-color: transparent;\n",
              "      border-left-color: var(--fill-color);\n",
              "      border-top-color: var(--fill-color);\n",
              "      border-right-color: var(--fill-color);\n",
              "    }\n",
              "    40% {\n",
              "      border-color: transparent;\n",
              "      border-right-color: var(--fill-color);\n",
              "      border-top-color: var(--fill-color);\n",
              "    }\n",
              "    60% {\n",
              "      border-color: transparent;\n",
              "      border-right-color: var(--fill-color);\n",
              "    }\n",
              "    80% {\n",
              "      border-color: transparent;\n",
              "      border-right-color: var(--fill-color);\n",
              "      border-bottom-color: var(--fill-color);\n",
              "    }\n",
              "    90% {\n",
              "      border-color: transparent;\n",
              "      border-bottom-color: var(--fill-color);\n",
              "    }\n",
              "  }\n",
              "</style>\n",
              "\n",
              "      <script>\n",
              "        async function quickchart(key) {\n",
              "          const quickchartButtonEl =\n",
              "            document.querySelector('#' + key + ' button');\n",
              "          quickchartButtonEl.disabled = true;  // To prevent multiple clicks.\n",
              "          quickchartButtonEl.classList.add('colab-df-spinner');\n",
              "          try {\n",
              "            const charts = await google.colab.kernel.invokeFunction(\n",
              "                'suggestCharts', [key], {});\n",
              "          } catch (error) {\n",
              "            console.error('Error during call to suggestCharts:', error);\n",
              "          }\n",
              "          quickchartButtonEl.classList.remove('colab-df-spinner');\n",
              "          quickchartButtonEl.classList.add('colab-df-quickchart-complete');\n",
              "        }\n",
              "        (() => {\n",
              "          let quickchartButtonEl =\n",
              "            document.querySelector('#df-0f371404-893a-44f5-84b8-dfbf416fc769 button');\n",
              "          quickchartButtonEl.style.display =\n",
              "            google.colab.kernel.accessAllowed ? 'block' : 'none';\n",
              "        })();\n",
              "      </script>\n",
              "    </div>\n",
              "\n",
              "    </div>\n",
              "  </div>\n"
            ],
            "application/vnd.google.colaboratory.intrinsic+json": {
              "type": "dataframe"
            }
          },
          "metadata": {}
        }
      ]
    },
    {
      "cell_type": "markdown",
      "metadata": {
        "id": "BGE77RVoz3C9"
      },
      "source": [
        "### Analisis Variabel Target: Cannabis\n",
        "\n",
        "Variabel target asli, `cannabis`, memiliki 7 kelas yang menunjukkan frekuensi penggunaan. Kita akan memvisualisasikan distribusinya sebelum melakukan preprocessing."
      ]
    },
    {
      "cell_type": "code",
      "execution_count": 8,
      "metadata": {
        "colab": {
          "base_uri": "https://localhost:8080/",
          "height": 885
        },
        "id": "uW4wFNZrz3C-",
        "outputId": "f8857191-100a-44a4-9957-8a5ccb9146dc"
      },
      "outputs": [
        {
          "output_type": "stream",
          "name": "stdout",
          "text": [
            "--- Analisis Variabel Target: Cannabis ---\n"
          ]
        },
        {
          "output_type": "stream",
          "name": "stderr",
          "text": [
            "/tmp/ipython-input-2397295164.py:3: FutureWarning: \n",
            "\n",
            "Passing `palette` without assigning `hue` is deprecated and will be removed in v0.14.0. Assign the `x` variable to `hue` and set `legend=False` for the same effect.\n",
            "\n",
            "  sns.countplot(x='cannabis', data=df, order=sorted(df['cannabis'].unique()), palette='viridis')\n"
          ]
        },
        {
          "output_type": "display_data",
          "data": {
            "text/plain": [
              "<Figure size 1000x600 with 1 Axes>"
            ],
            "image/png": "[encoded data removed]"
          },
          "metadata": {}
        },
        {
          "output_type": "stream",
          "name": "stdout",
          "text": [
            "\n",
            "Distribusi frekuensi kelas 'cannabis':\n",
            "cannabis\n",
            "CL6    463\n",
            "CL0    413\n",
            "CL2    266\n",
            "CL3    211\n",
            "CL1    207\n",
            "CL5    185\n",
            "CL4    140\n",
            "Name: count, dtype: int64\n"
          ]
        }
      ],
      "source": [
        "print(\"--- Analisis Variabel Target: Cannabis ---\")\n",
        "plt.figure(figsize=(10, 6))\n",
        "sns.countplot(x='cannabis', data=df, order=sorted(df['cannabis'].unique()), palette='viridis')\n",
        "plt.title('Distribusi Awal Konsumsi Cannabis (7 Kelas)', fontsize=16)\n",
        "plt.xlabel('Kelas Penggunaan (CL0: Belum Pernah, CL6: Hari Terakhir)', fontsize=12)\n",
        "plt.ylabel('Jumlah Responden', fontsize=12)\n",
        "plt.savefig('cannabis_distribution_before.png')\n",
        "plt.show()\n",
        "\n",
        "print(\"\\nDistribusi frekuensi kelas 'cannabis':\")\n",
        "print(df['cannabis'].value_counts())"
      ]
    },
    {
      "cell_type": "markdown",
      "metadata": {
        "id": "-Mu47HgPz3C_"
      },
      "source": [
        "## 3. Preprocessing Data\n",
        "\n",
        "Tahap ini mencakup semua langkah persiapan data sebelum dimasukkan ke dalam model."
      ]
    },
    {
      "cell_type": "markdown",
      "metadata": {
        "id": "iCu85WVLz3C_"
      },
      "source": [
        "### a. Binerisasi Variabel Target\n",
        "\n",
        "Untuk menyederhanakan masalah klasifikasi, kita akan mengubah 7 kelas target menjadi 2 kelas biner: 'User' (pernah menggunakan) dan 'Non-user' (tidak pernah menggunakan). Kelas `CL0` dan `CL1` akan dikategorikan sebagai 'Non-user', sementara sisanya sebagai 'User'. Hasilnya disimpan di kolom baru `cannabis_binary`."
      ]
    },
    {
      "cell_type": "code",
      "execution_count": 9,
      "metadata": {
        "colab": {
          "base_uri": "https://localhost:8080/",
          "height": 704
        },
        "id": "SPumoTLuz3DA",
        "outputId": "65ec33e1-3811-434a-b01c-b6a9aa26d92d"
      },
      "outputs": [
        {
          "output_type": "stream",
          "name": "stdout",
          "text": [
            "1. Melakukan binerisasi target 'cannabis'...\n",
            "Distribusi kelas setelah binerisasi:\n",
            "cannabis_binary\n",
            "User        1265\n",
            "Non-user     620\n",
            "Name: count, dtype: int64\n"
          ]
        },
        {
          "output_type": "stream",
          "name": "stderr",
          "text": [
            "/tmp/ipython-input-3989775515.py:18: FutureWarning: \n",
            "\n",
            "Passing `palette` without assigning `hue` is deprecated and will be removed in v0.14.0. Assign the `x` variable to `hue` and set `legend=False` for the same effect.\n",
            "\n",
            "  sns.countplot(x='cannabis_binary', data=df, palette='mako')\n"
          ]
        },
        {
          "output_type": "display_data",
          "data": {
            "text/plain": [
              "<Figure size 800x500 with 1 Axes>"
            ],
            "image/png": "[encoded data removed]"
          },
          "metadata": {}
        }
      ],
      "source": [
        "print(\"1. Melakukan binerisasi target 'cannabis'...\")\n",
        "class_mapping = {\n",
        "    'CL0': 'Non-user',\n",
        "    'CL1': 'Non-user',\n",
        "    'CL2': 'User',\n",
        "    'CL3': 'User',\n",
        "    'CL4': 'User',\n",
        "    'CL5': 'User',\n",
        "    'CL6': 'User'\n",
        "}\n",
        "df['cannabis_binary'] = df['cannabis'].replace(class_mapping)\n",
        "\n",
        "print(\"Distribusi kelas setelah binerisasi:\")\n",
        "print(df['cannabis_binary'].value_counts())\n",
        "\n",
        "# Visualisasi setelah binerisasi\n",
        "plt.figure(figsize=(8, 5))\n",
        "sns.countplot(x='cannabis_binary', data=df, palette='mako')\n",
        "plt.title('Distribusi Target Setelah Binerisasi (User vs Non-user)', fontsize=16)\n",
        "plt.xlabel('Kategori Pengguna', fontsize=12)\n",
        "plt.ylabel('Jumlah Responden', fontsize=12)\n",
        "plt.savefig('cannabis_distribution_after.png')\n",
        "plt.show()"
      ]
    },
    {
      "cell_type": "markdown",
      "metadata": {
        "id": "FAULknMgz3DB"
      },
      "source": [
        "### b. Pemisahan Fitur dan Target & Pembagian Data (Train-Test Split)\n",
        "\n",
        "Sekarang kita akan memisahkan kembali DataFrame menjadi fitur (X) dan target (y) untuk pemodelan. Setelah itu, data dibagi menjadi set pelatihan (80%) dan set pengujian (20%). Penggunaan `stratify` memastikan proporsi kelas target tetap sama di kedua set."
      ]
    },
    {
      "cell_type": "code",
      "execution_count": 10,
      "metadata": {
        "colab": {
          "base_uri": "https://localhost:8080/",
          "height": 0
        },
        "id": "9l2bocu2z3DC",
        "outputId": "d13267a0-ef33-4d4a-e4dd-c479624d4385"
      },
      "outputs": [
        {
          "output_type": "stream",
          "name": "stdout",
          "text": [
            "\n",
            "2. Memisahkan fitur dan target, lalu membagi data...\n",
            "Ukuran data latih: (1508, 12)\n",
            "Ukuran data uji: (377, 12)\n"
          ]
        }
      ],
      "source": [
        "print(\"\\n2. Memisahkan fitur dan target, lalu membagi data...\")\n",
        "\n",
        "# Mendefinisikan X (fitur) dan y (target)\n",
        "X = df[drug_consumption.data.features.columns]\n",
        "y = df['cannabis_binary']\n",
        "\n",
        "# Membagi data menjadi set latih dan uji\n",
        "X_train, X_test, y_train, y_test = train_test_split(\n",
        "    X, y, test_size=0.2, random_state=42, stratify=y\n",
        ")\n",
        "print(f\"Ukuran data latih: {X_train.shape}\")\n",
        "print(f\"Ukuran data uji: {X_test.shape}\")"
      ]
    },
    {
      "cell_type": "markdown",
      "metadata": {
        "id": "AMyD2igFz3DC"
      },
      "source": [
        "### c. Encoding Label Target\n",
        "\n",
        "Mengubah label target kategorikal ('User', 'Non-user') menjadi format numerik (0 dan 1) yang dapat dipahami oleh model."
      ]
    },
    {
      "cell_type": "code",
      "execution_count": 11,
      "metadata": {
        "colab": {
          "base_uri": "https://localhost:8080/",
          "height": 0
        },
        "id": "J2jj6Ji1z3DC",
        "outputId": "e364f166-7fa9-4aae-a0b4-b69d98d194d8"
      },
      "outputs": [
        {
          "output_type": "stream",
          "name": "stdout",
          "text": [
            "\n",
            "3. Melakukan encoding label target...\n",
            "Label target telah di-encode.\n",
            "Mapping: Non-user -> 0, User -> 1\n"
          ]
        }
      ],
      "source": [
        "print(\"\\n3. Melakukan encoding label target...\")\n",
        "le = LabelEncoder()\n",
        "y_train_encoded = le.fit_transform(y_train)\n",
        "y_test_encoded = le.transform(y_test)\n",
        "print(\"Label target telah di-encode.\")\n",
        "print(f\"Mapping: {le.classes_[0]} -> {le.transform(le.classes_)[0]}, {le.classes_[1]} -> {le.transform(le.classes_)[1]}\")"
      ]
    },
    {
      "cell_type": "markdown",
      "metadata": {
        "id": "sRMyhtsrz3DC"
      },
      "source": [
        "### d. Identifikasi Jenis Fitur\n",
        "\n",
        "Memisahkan kolom-kolom pada DataFrame fitur `X` berdasarkan tipe datanya (numerik atau kategorikal) untuk diterapkan preprocessor yang sesuai di dalam pipeline."
      ]
    },
    {
      "cell_type": "code",
      "execution_count": 12,
      "metadata": {
        "colab": {
          "base_uri": "https://localhost:8080/",
          "height": 0
        },
        "id": "hLVXKBYgz3DD",
        "outputId": "f3325b3c-f6ce-4e00-e40a-e1141e763b7a"
      },
      "outputs": [
        {
          "output_type": "stream",
          "name": "stdout",
          "text": [
            "\n",
            "Fitur numerik: ['age', 'gender', 'education', 'country', 'ethnicity', 'nscore', 'escore', 'oscore', 'ascore', 'cscore', 'impuslive', 'ss']\n",
            "Fitur kategorikal: []\n"
          ]
        }
      ],
      "source": [
        "numeric_features = X.select_dtypes(include=['int64', 'float64']).columns\n",
        "categorical_features = X.select_dtypes(include=['object']).columns\n",
        "\n",
        "print(\"\\nFitur numerik:\", list(numeric_features))\n",
        "print(\"Fitur kategorikal:\", list(categorical_features))"
      ]
    },
    {
      "cell_type": "markdown",
      "metadata": {
        "id": "M3AMujkgz3DD"
      },
      "source": [
        "## 4. Pembuatan Pipeline & Tuning Hyperparameter\n",
        "\n",
        "Kita akan membuat pipeline yang menggabungkan langkah-langkah preprocessing dan pemodelan. `ColumnTransformer` digunakan untuk menerapkan transformasi yang berbeda pada subset kolom yang berbeda.\n",
        "\n",
        "- **Fitur Numerik:** Akan distandarisasi menggunakan `StandardScaler`.\n",
        "- **Fitur Kategorikal:** Tidak ada.\n",
        "\n",
        "Selanjutnya, `GridSearchCV` akan digunakan untuk mencari kombinasi hyperparameter terbaik untuk model `LGBMClassifier` secara sistematis menggunakan validasi silang (cross-validation)."
      ]
    },
    {
      "cell_type": "code",
      "execution_count": 14,
      "metadata": {
        "colab": {
          "base_uri": "https://localhost:8080/",
          "height": 0
        },
        "id": "9VOwkzgWz3DD",
        "outputId": "988a2162-8a49-41a0-bac2-58807a0d2a76"
      },
      "outputs": [
        {
          "output_type": "stream",
          "name": "stdout",
          "text": [
            "--- Memulai GridSearchCV dengan Cross-Validation ---\n",
            "Fitting 5 folds for each of 27 candidates, totalling 135 fits\n",
            "[LightGBM] [Info] Number of positive: 1012, number of negative: 496\n",
            "[LightGBM] [Info] Auto-choosing col-wise multi-threading, the overhead of testing was 0.000311 seconds.\n",
            "You can set `force_col_wise=true` to remove the overhead.\n",
            "[LightGBM] [Info] Total Bins 251\n",
            "[LightGBM] [Info] Number of data points in the train set: 1508, number of used features: 12\n",
            "[LightGBM] [Info] [binary:BoostFromScore]: pavg=0.671088 -> initscore=0.713108\n",
            "[LightGBM] [Info] Start training from score 0.713108\n",
            "[LightGBM] [Warning] No further splits with positive gain, best gain: -inf\n",
            "[LightGBM] [Warning] No further splits with positive gain, best gain: -inf\n",
            "[LightGBM] [Warning] No further splits with positive gain, best gain: -inf\n",
            "[LightGBM] [Warning] No further splits with positive gain, best gain: -inf\n",
            "[LightGBM] [Warning] No further splits with positive gain, best gain: -inf\n",
            "[LightGBM] [Warning] No further splits with positive gain, best gain: -inf\n",
            "[LightGBM] [Warning] No further splits with positive gain, best gain: -inf\n",
            "[LightGBM] [Warning] No further splits with positive gain, best gain: -inf\n",
            "[LightGBM] [Warning] No further splits with positive gain, best gain: -inf\n",
            "[LightGBM] [Warning] No further splits with positive gain, best gain: -inf\n",
            "[LightGBM] [Warning] No further splits with positive gain, best gain: -inf\n",
            "[LightGBM] [Warning] No further splits with positive gain, best gain: -inf\n",
            "[LightGBM] [Warning] No further splits with positive gain, best gain: -inf\n",
            "[LightGBM] [Warning] No further splits with positive gain, best gain: -inf\n",
            "[LightGBM] [Warning] No further splits with positive gain, best gain: -inf\n",
            "[LightGBM] [Warning] No further splits with positive gain, best gain: -inf\n",
            "[LightGBM] [Warning] No further splits with positive gain, best gain: -inf\n",
            "[LightGBM] [Warning] No further splits with positive gain, best gain: -inf\n",
            "[LightGBM] [Warning] No further splits with positive gain, best gain: -inf\n",
            "[LightGBM] [Warning] No further splits with positive gain, best gain: -inf\n",
            "[LightGBM] [Warning] No further splits with positive gain, best gain: -inf\n",
            "[LightGBM] [Warning] No further splits with positive gain, best gain: -inf\n",
            "[LightGBM] [Warning] No further splits with positive gain, best gain: -inf\n",
            "[LightGBM] [Warning] No further splits with positive gain, best gain: -inf\n",
            "[LightGBM] [Warning] No further splits with positive gain, best gain: -inf\n",
            "[LightGBM] [Warning] No further splits with positive gain, best gain: -inf\n",
            "[LightGBM] [Warning] No further splits with positive gain, best gain: -inf\n",
            "[LightGBM] [Warning] No further splits with positive gain, best gain: -inf\n",
            "[LightGBM] [Warning] No further splits with positive gain, best gain: -inf\n",
            "[LightGBM] [Warning] No further splits with positive gain, best gain: -inf\n",
            "[LightGBM] [Warning] No further splits with positive gain, best gain: -inf\n",
            "[LightGBM] [Warning] No further splits with positive gain, best gain: -inf\n",
            "[LightGBM] [Warning] No further splits with positive gain, best gain: -inf\n",
            "[LightGBM] [Warning] No further splits with positive gain, best gain: -inf\n",
            "[LightGBM] [Warning] No further splits with positive gain, best gain: -inf\n",
            "[LightGBM] [Warning] No further splits with positive gain, best gain: -inf\n",
            "[LightGBM] [Warning] No further splits with positive gain, best gain: -inf\n",
            "[LightGBM] [Warning] No further splits with positive gain, best gain: -inf\n",
            "[LightGBM] [Warning] No further splits with positive gain, best gain: -inf\n",
            "[LightGBM] [Warning] No further splits with positive gain, best gain: -inf\n",
            "[LightGBM] [Warning] No further splits with positive gain, best gain: -inf\n",
            "[LightGBM] [Warning] No further splits with positive gain, best gain: -inf\n",
            "[LightGBM] [Warning] No further splits with positive gain, best gain: -inf\n",
            "[LightGBM] [Warning] No further splits with positive gain, best gain: -inf\n",
            "[LightGBM] [Warning] No further splits with positive gain, best gain: -inf\n",
            "[LightGBM] [Warning] No further splits with positive gain, best gain: -inf\n",
            "[LightGBM] [Warning] No further splits with positive gain, best gain: -inf\n",
            "[LightGBM] [Warning] No further splits with positive gain, best gain: -inf\n",
            "[LightGBM] [Warning] No further splits with positive gain, best gain: -inf\n",
            "[LightGBM] [Warning] No further splits with positive gain, best gain: -inf\n",
            "[LightGBM] [Warning] No further splits with positive gain, best gain: -inf\n",
            "[LightGBM] [Warning] No further splits with positive gain, best gain: -inf\n",
            "[LightGBM] [Warning] No further splits with positive gain, best gain: -inf\n",
            "[LightGBM] [Warning] No further splits with positive gain, best gain: -inf\n",
            "[LightGBM] [Warning] No further splits with positive gain, best gain: -inf\n",
            "[LightGBM] [Warning] No further splits with positive gain, best gain: -inf\n",
            "[LightGBM] [Warning] No further splits with positive gain, best gain: -inf\n",
            "[LightGBM] [Warning] No further splits with positive gain, best gain: -inf\n",
            "[LightGBM] [Warning] No further splits with positive gain, best gain: -inf\n",
            "[LightGBM] [Warning] No further splits with positive gain, best gain: -inf\n",
            "[LightGBM] [Warning] No further splits with positive gain, best gain: -inf\n",
            "[LightGBM] [Warning] No further splits with positive gain, best gain: -inf\n",
            "[LightGBM] [Warning] No further splits with positive gain, best gain: -inf\n",
            "[LightGBM] [Warning] No further splits with positive gain, best gain: -inf\n",
            "[LightGBM] [Warning] No further splits with positive gain, best gain: -inf\n",
            "[LightGBM] [Warning] No further splits with positive gain, best gain: -inf\n",
            "[LightGBM] [Warning] No further splits with positive gain, best gain: -inf\n",
            "[LightGBM] [Warning] No further splits with positive gain, best gain: -inf\n",
            "[LightGBM] [Warning] No further splits with positive gain, best gain: -inf\n",
            "[LightGBM] [Warning] No further splits with positive gain, best gain: -inf\n",
            "[LightGBM] [Warning] No further splits with positive gain, best gain: -inf\n",
            "[LightGBM] [Warning] No further splits with positive gain, best gain: -inf\n",
            "[LightGBM] [Warning] No further splits with positive gain, best gain: -inf\n",
            "[LightGBM] [Warning] No further splits with positive gain, best gain: -inf\n",
            "[LightGBM] [Warning] No further splits with positive gain, best gain: -inf\n",
            "[LightGBM] [Warning] No further splits with positive gain, best gain: -inf\n",
            "[LightGBM] [Warning] No further splits with positive gain, best gain: -inf\n",
            "[LightGBM] [Warning] No further splits with positive gain, best gain: -inf\n",
            "[LightGBM] [Warning] No further splits with positive gain, best gain: -inf\n",
            "[LightGBM] [Warning] No further splits with positive gain, best gain: -inf\n",
            "[LightGBM] [Warning] No further splits with positive gain, best gain: -inf\n",
            "[LightGBM] [Warning] No further splits with positive gain, best gain: -inf\n",
            "[LightGBM] [Warning] No further splits with positive gain, best gain: -inf\n",
            "[LightGBM] [Warning] No further splits with positive gain, best gain: -inf\n",
            "[LightGBM] [Warning] No further splits with positive gain, best gain: -inf\n",
            "[LightGBM] [Warning] No further splits with positive gain, best gain: -inf\n",
            "[LightGBM] [Warning] No further splits with positive gain, best gain: -inf\n",
            "[LightGBM] [Warning] No further splits with positive gain, best gain: -inf\n",
            "[LightGBM] [Warning] No further splits with positive gain, best gain: -inf\n",
            "[LightGBM] [Warning] No further splits with positive gain, best gain: -inf\n",
            "[LightGBM] [Warning] No further splits with positive gain, best gain: -inf\n",
            "[LightGBM] [Warning] No further splits with positive gain, best gain: -inf\n",
            "[LightGBM] [Warning] No further splits with positive gain, best gain: -inf\n",
            "[LightGBM] [Warning] No further splits with positive gain, best gain: -inf\n",
            "[LightGBM] [Warning] No further splits with positive gain, best gain: -inf\n",
            "[LightGBM] [Warning] No further splits with positive gain, best gain: -inf\n",
            "[LightGBM] [Warning] No further splits with positive gain, best gain: -inf\n",
            "[LightGBM] [Warning] No further splits with positive gain, best gain: -inf\n",
            "[LightGBM] [Warning] No further splits with positive gain, best gain: -inf\n",
            "[LightGBM] [Warning] No further splits with positive gain, best gain: -inf\n",
            "\n",
            "Hyperparameter terbaik: {'classifier__learning_rate': 0.3, 'classifier__max_depth': 3, 'classifier__n_estimators': 100}\n",
            "Skor F1-weighted terbaik (cross-validation): 0.809\n"
          ]
        }
      ],
      "source": [
        "# Membuat preprocessor untuk numerik dan kategorikal\n",
        "preprocessor = ColumnTransformer(\n",
        "    transformers=[\n",
        "        ('num', StandardScaler(), numeric_features)\n",
        "    ])\n",
        "\n",
        "# Membuat pipeline: Preprocessor -> LightGBM Classifier\n",
        "pipeline = Pipeline([\n",
        "    ('preprocessor', preprocessor),\n",
        "    ('classifier', LGBMClassifier(\n",
        "        objective='binary',\n",
        "        metric='binary_logloss',\n",
        "        is_unbalance=True, # Cocok untuk data tidak seimbang\n",
        "        random_state=42\n",
        "    ))\n",
        "])\n",
        "\n",
        "# Mendefinisikan ruang hyperparameter untuk dicari\n",
        "param_grid = {\n",
        "    'classifier__n_estimators': [50, 100, 200],\n",
        "    'classifier__learning_rate': [0.01, 0.1, 0.3],\n",
        "    'classifier__max_depth': [3, 6, 9]\n",
        "}\n",
        "\n",
        "# Membuat objek GridSearchCV\n",
        "grid_search = GridSearchCV(\n",
        "    pipeline,\n",
        "    param_grid,\n",
        "    cv=5, # 5-fold cross-validation\n",
        "    scoring='f1_weighted', # Metrik evaluasi\n",
        "    n_jobs=-1, # Menggunakan semua core CPU\n",
        "    verbose=1\n",
        ")\n",
        "\n",
        "# Melatih GridSearchCV pada data latih\n",
        "print(\"--- Memulai GridSearchCV dengan Cross-Validation ---\")\n",
        "grid_search.fit(X_train, y_train_encoded)\n",
        "\n",
        "print(\"\\nHyperparameter terbaik:\", grid_search.best_params_)\n",
        "print(f\"Skor F1-weighted terbaik (cross-validation): {grid_search.best_score_:.3f}\")"
      ]
    },
    {
      "cell_type": "markdown",
      "metadata": {
        "id": "L_8cElM5z3DD"
      },
      "source": [
        "## 5. Evaluasi Model\n",
        "\n",
        "Setelah menemukan model terbaik melalui GridSearchCV, kita akan mengevaluasi performanya pada data uji (`X_test`, `y_test_encoded`) yang belum pernah dilihat oleh model sebelumnya. Ini memberikan estimasi yang tidak bias tentang bagaimana model akan berkinerja pada data baru."
      ]
    },
    {
      "cell_type": "code",
      "execution_count": 15,
      "metadata": {
        "colab": {
          "base_uri": "https://localhost:8080/",
          "height": 0
        },
        "id": "L8-t6x-Az3DE",
        "outputId": "e9ea1c7f-ba87-4d2e-ddec-a067878068ca"
      },
      "outputs": [
        {
          "output_type": "stream",
          "name": "stdout",
          "text": [
            "--- Evaluasi Model Terbaik pada Data Uji ---\n",
            "\n",
            "Laporan Klasifikasi Model LightGBM pada Data Uji:\n",
            "              precision    recall  f1-score   support\n",
            "\n",
            "    Non-user       0.63      0.74      0.68       124\n",
            "        User       0.86      0.79      0.82       253\n",
            "\n",
            "    accuracy                           0.77       377\n",
            "   macro avg       0.75      0.76      0.75       377\n",
            "weighted avg       0.79      0.77      0.78       377\n",
            "\n"
          ]
        },
        {
          "output_type": "stream",
          "name": "stderr",
          "text": [
            "/usr/local/lib/python3.11/dist-packages/sklearn/utils/validation.py:2739: UserWarning: X does not have valid feature names, but LGBMClassifier was fitted with feature names\n",
            "  warnings.warn(\n"
          ]
        }
      ],
      "source": [
        "print(\"--- Evaluasi Model Terbaik pada Data Uji ---\")\n",
        "\n",
        "# Mengambil model terbaik dari grid search\n",
        "best_model = grid_search.best_estimator_\n",
        "\n",
        "# Prediksi pada data uji\n",
        "y_pred = best_model.predict(X_test)\n",
        "\n",
        "print(\"\\nLaporan Klasifikasi Model LightGBM pada Data Uji:\")\n",
        "print(classification_report(y_test_encoded, y_pred, target_names=le.classes_))"
      ]
    },
    {
      "cell_type": "markdown",
      "metadata": {
        "id": "wpTIcDc1z3DE"
      },
      "source": [
        "## 6. Analisis Fitur Penting\n",
        "\n",
        "Langkah ini bertujuan untuk memahami faktor-faktor apa yang paling berpengaruh dalam prediksi model. Kita akan mengekstrak dan memvisualisasikan `feature_importances_` dari model LightGBM yang telah dilatih."
      ]
    },
    {
      "cell_type": "code",
      "execution_count": 16,
      "metadata": {
        "colab": {
          "base_uri": "https://localhost:8080/",
          "height": 1390
        },
        "id": "24m6BEUQz3DE",
        "outputId": "97835e25-3c4d-483b-8422-4665c193dd65"
      },
      "outputs": [
        {
          "output_type": "stream",
          "name": "stdout",
          "text": [
            "--- Menganalisis Fitur Paling Berpengaruh ---\n",
            "\n",
            "Tingkat Kepentingan Fitur:\n",
            "nscore       80\n",
            "cscore       78\n",
            "ascore       69\n",
            "escore       63\n",
            "oscore       60\n",
            "education    49\n",
            "impuslive    45\n",
            "ss           41\n",
            "age          40\n",
            "country      27\n",
            "ethnicity    15\n",
            "gender       13\n",
            "dtype: int32\n"
          ]
        },
        {
          "output_type": "stream",
          "name": "stderr",
          "text": [
            "/tmp/ipython-input-2500818284.py:18: FutureWarning: \n",
            "\n",
            "Passing `palette` without assigning `hue` is deprecated and will be removed in v0.14.0. Assign the `y` variable to `hue` and set `legend=False` for the same effect.\n",
            "\n",
            "  sns.barplot(x=feature_importances, y=feature_importances.index, palette='rocket')\n"
          ]
        },
        {
          "output_type": "display_data",
          "data": {
            "text/plain": [
              "<Figure size 1200x1000 with 1 Axes>"
            ],
            "image/png": "[encoded data removed]"
          },
          "metadata": {}
        }
      ],
      "source": [
        "print(\"--- Menganalisis Fitur Paling Berpengaruh ---\")\n",
        "\n",
        "# Mengakses model LightGBM dari pipeline terbaik\n",
        "lgbm_model = best_model.named_steps['classifier']\n",
        "\n",
        "# Mendapatkan nama fitur setelah preprocessing\n",
        "# Urutan nama fitur harus sesuai dengan urutan dalam ColumnTransformer\n",
        "feature_names = list(numeric_features) + list(categorical_features)\n",
        "\n",
        "# Membuat DataFrame untuk feature importances\n",
        "feature_importances = pd.Series(lgbm_model.feature_importances_, index=feature_names).sort_values(ascending=False)\n",
        "\n",
        "print(\"\\nTingkat Kepentingan Fitur:\")\n",
        "print(feature_importances)\n",
        "\n",
        "# Visualisasi feature importances\n",
        "plt.figure(figsize=(12, 10))\n",
        "sns.barplot(x=feature_importances, y=feature_importances.index, palette='rocket')\n",
        "plt.title('Tingkat Kepentingan Fitur Menurut Model LightGBM', fontsize=16)\n",
        "plt.xlabel('Tingkat Kepentingan (Importance Score)', fontsize=12)\n",
        "plt.ylabel('Fitur', fontsize=12)\n",
        "plt.tight_layout()\n",
        "plt.savefig('feature_importance_lightgbm.png')\n",
        "plt.show()"
      ]
    },
    {
      "cell_type": "markdown",
      "metadata": {
        "id": "CeRa5lUEz3DE"
      },
      "source": [
        "## 7. Penyimpanan Model\n",
        "\n",
        "Menyimpan pipeline model terbaik dan label encoder ke dalam file menggunakan `joblib`. Ini memungkinkan kita untuk memuat kembali model yang sudah dilatih di lain waktu tanpa perlu melatih ulang dari awal."
      ]
    },
    {
      "cell_type": "code",
      "execution_count": 18,
      "metadata": {
        "colab": {
          "base_uri": "https://localhost:8080/",
          "height": 0
        },
        "id": "IkyUrBlGz3DF",
        "outputId": "b621600a-a6cd-46ee-f8da-8b3802ba3016"
      },
      "outputs": [
        {
          "output_type": "stream",
          "name": "stdout",
          "text": [
            "Pipeline terbaik dan Label Encoder berhasil disimpan!\n"
          ]
        }
      ],
      "source": [
        "joblib.dump(best_model, 'pipeline_konsumsi_narkoba_lightgbm.joblib')\n",
        "joblib.dump(le, 'label_encoder.joblib')\n",
        "\n",
        "print(\"Pipeline terbaik dan Label Encoder berhasil disimpan!\")"
      ]
    },
    {
      "cell_type": "markdown",
      "metadata": {
        "id": "YhzCy5GAz3DF"
      },
      "source": [
        "## 8. Kesimpulan\n",
        "\n",
        "Proyek ini berhasil membangun model klasifikasi berbasis LightGBM dengan pipeline end-to-end untuk memprediksi penggunaan ganja. Penggunaan pipeline memastikan proses yang rapi dan terhindar dari kebocoran data, sementara GridSearchCV berhasil menemukan hyperparameter yang optimal.\n",
        "\n",
        "**Hasil Utama:**\n",
        "- **Performa Model:** Model menunjukkan performa yang baik pada data uji, dengan F1-score yang solid untuk kedua kelas (User dan Non-user), menandakan kemampuannya dalam mengidentifikasi kedua kategori secara seimbang.\n",
        "- **Hyperparameter Terbaik:** `{'classifier__learning_rate': 0.3, 'classifier__max_depth': 3, 'classifier__n_estimators': 100}`.\n",
        "- **Fitur Berpengaruh:** 5 Besar Skor Kepribadian (Big Five: nscore, cscore, ascore, escore, oscore) sangat dominan. Impulsivitas (impuslive) dan Sensation Seeking (ss) juga signifikan — logis karena berkorelasi dengan perilaku adiktif. Faktor demografis seperti usia, pendidikan, dan negara masih berpengaruh, tetapi lebih rendah dari faktor psikologis.\n",
        "\n",
        "Secara keseluruhan, model ini tidak hanya memiliki akurasi prediktif yang baik tetapi juga memberikan wawasan yang berharga mengenai faktor-faktor risiko yang terkait dengan konsumsi ganja. Pipeline yang telah disimpan siap untuk diintegrasikan ke dalam aplikasi atau sistem lain untuk inferensi."
      ]
    }
  ],
  "metadata": {
    "kernelspec": {
      "display_name": "Python 3",
      "language": "python",
      "name": "python3"
    },
    "language_info": {
      "codemirror_mode": {
        "name": "ipython",
        "version": 3
      },
      "file_extension": ".py",
      "mimetype": "text/x-python",
      "name": "python",
      "nbconvert_exporter": "python",
      "pygments_lexer": "ipython3",
      "version": "3.9.7"
    },
    "colab": {
      "provenance": []
    }
  },
  "nbformat": 4,
  "nbformat_minor": 0
}